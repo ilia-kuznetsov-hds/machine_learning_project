{
  "cells": [
    {
      "cell_type": "markdown",
      "source": [
        "\n",
        "\n",
        "---\n",
        "\n"
      ],
      "metadata": {
        "id": "e7WSf4K3uOST"
      }
    },
    {
      "cell_type": "markdown",
      "source": [
        "# Project for Machine Learning I course.\n",
        "## Understanding the Performance of Simple ANNs on the Cancer Dataset\n",
        "\n"
      ],
      "metadata": {
        "id": "N6T0wwT_GozJ"
      }
    },
    {
      "cell_type": "markdown",
      "source": [
        "\n",
        "\n",
        "---\n",
        "\n"
      ],
      "metadata": {
        "id": "WIxnixCAuWZ-"
      }
    },
    {
      "cell_type": "markdown",
      "source": [
        "![alt text](https://drive.google.com/uc?export=view&id=105SGqeyo8RgLhSO8mN7ZE5OsG0YiLPKt)"
      ],
      "metadata": {
        "id": "9wK1oQbhq5hX"
      }
    },
    {
      "cell_type": "markdown",
      "source": [
        "# Step 1: Define the research question\n",
        "\n",
        "\n",
        "\n"
      ],
      "metadata": {
        "id": "l63_Jk0mA6AP"
      }
    },
    {
      "cell_type": "markdown",
      "source": [
        "How accurately can a simple Artificial Neural Network (ANN) algorithm perform binary classification to predict whether the cell nuclei in digitized images of fine needle aspirate (FNA) samples from breast masses are malignant or benign, based on the computed features of the cell nuclei?  \n",
        "The information about the dataset can be found [here (go to 7.1.6. Breast cancer wisconsin (diagnostic) dataset)](https://scikit-learn.org/stable/datasets/toy_dataset.html)"
      ],
      "metadata": {
        "id": "yR5mJNZwuSct"
      }
    },
    {
      "cell_type": "markdown",
      "source": [
        "# Step 2: Upload the \"cancer\" dataset\n"
      ],
      "metadata": {
        "id": "V24VekiP3uUU"
      }
    },
    {
      "cell_type": "code",
      "source": [
        "# Question 2: Upload the \"cancer\" dataset directly from scikit-learn.\n",
        "# That is, use the version of the cancer dataset embedded in sckikit-learn and not the CSV we used in weeks 4 and 5.\n",
        "# Rationale: We upload the in-built dataset from sklearn to use in our project. It is useful skill because in future we can use\n",
        "# such well-known toy-datasets as benchmark for more complex models.\n",
        "\n",
        "import numpy as np\n",
        "import pandas as pd\n",
        "# Load and return the breast cancer wisconsin dataset (classic for binary classification).\n",
        "from sklearn.datasets import load_breast_cancer\n",
        "\n",
        "# We directly upload the data as predictors and target variables.\n",
        "# The method will return a pandas DataFrame/Series depending on the number of columns.\n",
        "# The following code is based on the official sklearn documentation.\n",
        "# https://scikit-learn.org/stable/modules/generated/sklearn.datasets.load_breast_cancer.html\n",
        "X, y = load_breast_cancer(return_X_y=True, as_frame=True)"
      ],
      "metadata": {
        "id": "_MpNhWictjXB"
      },
      "execution_count": null,
      "outputs": []
    },
    {
      "cell_type": "markdown",
      "source": [
        "#Step 3: Split the data into training and test sets\n",
        "\n"
      ],
      "metadata": {
        "id": "g40TG8l032ej"
      }
    },
    {
      "cell_type": "code",
      "source": [
        "# Question 4: Split the Data\n",
        "# Rationale: By splitting the data, we can:\n",
        "# * Train the model on a subset of data (training set).\n",
        "# * Tune hyperparameters and select the best model using another subset (validation set).\n",
        "# * Evaluate the final model's performance on an test set to ensure it generalizes well to new data.\n",
        "\n",
        "# When we use validation set,  Keras measure the loss and the extra metrics on this set at the end of each epoch. which\n",
        "# It helps to see how well the model really performs.\n",
        "# If the performance on the training set is much better than on the validation set, model is probably overfitting (info from the textbook).\n",
        "\n",
        "# First, we split the data on test and train datasets, using train_test_split method\n",
        "from sklearn.model_selection import train_test_split\n",
        "\n",
        "# The variable naming follow the instructions from the assignment.\n",
        "# I use \"stratify=y\" to make sure that equal proportion of target classes will be present in all datasets.\n",
        "X_train, X_test, y_train, y_test = train_test_split(X, y, test_size=0.2, stratify=y, random_state=42)\n",
        "\n",
        "# Then we split the training data, creating additional validation dataset.\n",
        "X_train, X_val, y_train, y_val = train_test_split(X_train, y_train, test_size=0.1, stratify=y_train, random_state=42)"
      ],
      "metadata": {
        "id": "AhNFbAlyuCiE"
      },
      "execution_count": null,
      "outputs": []
    },
    {
      "cell_type": "markdown",
      "source": [
        "\n",
        "\n",
        "---\n",
        "---\n",
        "\n"
      ],
      "metadata": {
        "id": "E-IGy4l3uDfF"
      }
    },
    {
      "cell_type": "markdown",
      "source": [
        "# Step 4: Train a fully connected ANN\n"
      ],
      "metadata": {
        "id": "3KkWXE4G4JHk"
      }
    },
    {
      "cell_type": "code",
      "source": [
        "# Question 5: Build and Train the ANN.\n",
        "# Rationale: Using TensorFlow and Keras to build a fully connected Artificial Neural Network (ANN)\n",
        "# with with input layer, three hidden layers (each containing 10 nodes and SELU activation functions) and output layer to\n",
        "# solve the binary classification task (predict class of cancer cell - Benign or Malignant)\n",
        "\n",
        "import tensorflow as tf\n",
        "# Layers are used in Sequential API for model's creation\n",
        "from tensorflow.keras import layers\n",
        "\n",
        "# set TensorFlow’s random seed to make the results reproducible: the random weights of the hidden layers and the output layer\n",
        "# will be the same every time you run the notebook.\n",
        "# Chapter 10, Creating the model using the sequential API\n",
        "# HANDS-ON MACHINE LEARNING WITH SCIKIT-LEARN, KERAS, AND TENSORFLOW : concepts, tools, and techniques to build intelligent systems\n",
        "# Géron, Aurélien.\n",
        "# Third edition.; Sebastopol, California : O'Reilly Media, Inc.; 2022\n",
        "tf.random.set_seed(42)"
      ],
      "metadata": {
        "id": "wOpY-Cwct_cV"
      },
      "execution_count": null,
      "outputs": []
    },
    {
      "cell_type": "code",
      "source": [
        "# We need feature scaling for Neural Networks because they are trained using gradient descent,\n",
        "# and gradient descent does not converge very well when the features have very different scales.\n",
        "\n",
        "# Import standard scaler from sklearn.\n",
        "from sklearn.preprocessing import StandardScaler\n",
        "# Save an instance of standard scaler\n",
        "sc = StandardScaler()\n",
        "\n",
        "# Scaling training data, using fit_transform method.\n",
        "X_train_scaled = sc.fit_transform(X_train)\n",
        "\n",
        "# For test and validation data we only use transform method (), trying to avoid data leakage.\n",
        "X_test_scaled = sc.transform(X_test)\n",
        "X_val_scaled= sc.transform(X_val)"
      ],
      "metadata": {
        "id": "eTXZq35Msw-k"
      },
      "execution_count": null,
      "outputs": []
    },
    {
      "cell_type": "code",
      "source": [
        "# We create ANN, using Sequential model.\n",
        "# This is the simplest kind of Keras model for neural networks that are just composed of a single stack of layers connected sequentially.\n",
        "# This is called the sequential API (this text was taken from the textbook).\n",
        "# HANDS-ON MACHINE LEARNING WITH SCIKIT-LEARN, KERAS, AND TENSORFLOW : concepts, tools, and techniques to build intelligent systems\n",
        "# Géron, Aurélien.\n",
        "# Third edition.; Sebastopol, California : O'Reilly Media, Inc.; 2022\n",
        "\n",
        "# As we train only I model in this assignment, so I choose to name it model.\n",
        "model = tf.keras.Sequential([\n",
        "    # We specify the input shape, which doesn’t include the batch size, only the shape of the instances.\n",
        "    # Keras needs to know the shape of the inputs so it can determine the shape of the connection weight matrix of the first hidden layer.\n",
        "    # Chapter 10, Creating the model using the sequential API\n",
        "    # HANDS-ON MACHINE LEARNING WITH SCIKIT-LEARN, KERAS, AND TENSORFLOW : concepts, tools, and techniques to build intelligent systems\n",
        "    # Géron, Aurélien.\n",
        "    # Third edition.; Sebastopol, California : O'Reilly Media, Inc.; 2022\n",
        "    layers.Input(shape=(30,)),  # Input layer with 30 units (one unit for each column in features dataset (X)). It doesn't show in model's summary.\n",
        "    # Three hidden layers, each with 10 nodes using SELU activation functions.\n",
        "    layers.Dense(10, activation='selu', name='hidden_layer_1'),\n",
        "    layers.Dense(10, activation='selu', name='hidden_layer_2'),\n",
        "    layers.Dense(10, activation='selu', name='hidden_layer_3'), # Hidden layer with 10 units and SeLU activation\n",
        "    # For a binary classification problem, we need a single output neuron using the sigmoid activation function.\n",
        "    # The output will be a number between 0 and 1, which you can interpret as the estimated probability of the positive class.\n",
        "    layers.Dense(1, activation='sigmoid', name='output_layer')  # Output layer with 1 unit and sigmoid activation\n",
        "])"
      ],
      "metadata": {
        "id": "M_091EEecRKj"
      },
      "execution_count": null,
      "outputs": []
    },
    {
      "cell_type": "code",
      "source": [
        "# After a model is created, we use compile() method to specify the loss function and the optimizer to use.\n",
        "              # Adam optimization is a stochastic gradient descent method\n",
        "              # https://www.tensorflow.org/api_docs/python/tf/keras/optimizers/Adam\n",
        "model.compile(optimizer='adam',\n",
        "              # Computes the cross-entropy loss between true labels and predicted labels.\n",
        "              # Loss function for binary classification\n",
        "              # https://www.tensorflow.org/api_docs/python/tf/keras/losses/BinaryCrossentropy\n",
        "              loss='binary_crossentropy',\n",
        "              # Calculates how often predictions equal labels.\n",
        "              # https://www.tensorflow.org/api_docs/python/tf/keras/metrics/Accuracy\n",
        "              metrics=['accuracy'])\n",
        "\n",
        "# Prints a string summary of the network.\n",
        "model.summary()"
      ],
      "metadata": {
        "colab": {
          "base_uri": "https://localhost:8080/",
          "height": 257
        },
        "id": "UbXdRizGoi0G",
        "outputId": "a3f8c1fd-dbd8-4421-9e69-e38b7cc727cd"
      },
      "execution_count": null,
      "outputs": [
        {
          "output_type": "display_data",
          "data": {
            "text/plain": [
              "\u001b[1mModel: \"sequential\"\u001b[0m\n"
            ],
            "text/html": [
              "<pre style=\"white-space:pre;overflow-x:auto;line-height:normal;font-family:Menlo,'DejaVu Sans Mono',consolas,'Courier New',monospace\"><span style=\"font-weight: bold\">Model: \"sequential\"</span>\n",
              "</pre>\n"
            ]
          },
          "metadata": {}
        },
        {
          "output_type": "display_data",
          "data": {
            "text/plain": [
              "┏━━━━━━━━━━━━━━━━━━━━━━━━━━━━━━━━━━━━━━┳━━━━━━━━━━━━━━━━━━━━━━━━━━━━━┳━━━━━━━━━━━━━━━━━┓\n",
              "┃\u001b[1m \u001b[0m\u001b[1mLayer (type)                        \u001b[0m\u001b[1m \u001b[0m┃\u001b[1m \u001b[0m\u001b[1mOutput Shape               \u001b[0m\u001b[1m \u001b[0m┃\u001b[1m \u001b[0m\u001b[1m        Param #\u001b[0m\u001b[1m \u001b[0m┃\n",
              "┡━━━━━━━━━━━━━━━━━━━━━━━━━━━━━━━━━━━━━━╇━━━━━━━━━━━━━━━━━━━━━━━━━━━━━╇━━━━━━━━━━━━━━━━━┩\n",
              "│ hidden_layer_1 (\u001b[38;5;33mDense\u001b[0m)               │ (\u001b[38;5;45mNone\u001b[0m, \u001b[38;5;34m10\u001b[0m)                  │             \u001b[38;5;34m310\u001b[0m │\n",
              "├──────────────────────────────────────┼─────────────────────────────┼─────────────────┤\n",
              "│ hidden_layer_2 (\u001b[38;5;33mDense\u001b[0m)               │ (\u001b[38;5;45mNone\u001b[0m, \u001b[38;5;34m10\u001b[0m)                  │             \u001b[38;5;34m110\u001b[0m │\n",
              "├──────────────────────────────────────┼─────────────────────────────┼─────────────────┤\n",
              "│ hidden_layer_3 (\u001b[38;5;33mDense\u001b[0m)               │ (\u001b[38;5;45mNone\u001b[0m, \u001b[38;5;34m10\u001b[0m)                  │             \u001b[38;5;34m110\u001b[0m │\n",
              "├──────────────────────────────────────┼─────────────────────────────┼─────────────────┤\n",
              "│ output_layer (\u001b[38;5;33mDense\u001b[0m)                 │ (\u001b[38;5;45mNone\u001b[0m, \u001b[38;5;34m1\u001b[0m)                   │              \u001b[38;5;34m11\u001b[0m │\n",
              "└──────────────────────────────────────┴─────────────────────────────┴─────────────────┘\n"
            ],
            "text/html": [
              "<pre style=\"white-space:pre;overflow-x:auto;line-height:normal;font-family:Menlo,'DejaVu Sans Mono',consolas,'Courier New',monospace\">┏━━━━━━━━━━━━━━━━━━━━━━━━━━━━━━━━━━━━━━┳━━━━━━━━━━━━━━━━━━━━━━━━━━━━━┳━━━━━━━━━━━━━━━━━┓\n",
              "┃<span style=\"font-weight: bold\"> Layer (type)                         </span>┃<span style=\"font-weight: bold\"> Output Shape                </span>┃<span style=\"font-weight: bold\">         Param # </span>┃\n",
              "┡━━━━━━━━━━━━━━━━━━━━━━━━━━━━━━━━━━━━━━╇━━━━━━━━━━━━━━━━━━━━━━━━━━━━━╇━━━━━━━━━━━━━━━━━┩\n",
              "│ hidden_layer_1 (<span style=\"color: #0087ff; text-decoration-color: #0087ff\">Dense</span>)               │ (<span style=\"color: #00d7ff; text-decoration-color: #00d7ff\">None</span>, <span style=\"color: #00af00; text-decoration-color: #00af00\">10</span>)                  │             <span style=\"color: #00af00; text-decoration-color: #00af00\">310</span> │\n",
              "├──────────────────────────────────────┼─────────────────────────────┼─────────────────┤\n",
              "│ hidden_layer_2 (<span style=\"color: #0087ff; text-decoration-color: #0087ff\">Dense</span>)               │ (<span style=\"color: #00d7ff; text-decoration-color: #00d7ff\">None</span>, <span style=\"color: #00af00; text-decoration-color: #00af00\">10</span>)                  │             <span style=\"color: #00af00; text-decoration-color: #00af00\">110</span> │\n",
              "├──────────────────────────────────────┼─────────────────────────────┼─────────────────┤\n",
              "│ hidden_layer_3 (<span style=\"color: #0087ff; text-decoration-color: #0087ff\">Dense</span>)               │ (<span style=\"color: #00d7ff; text-decoration-color: #00d7ff\">None</span>, <span style=\"color: #00af00; text-decoration-color: #00af00\">10</span>)                  │             <span style=\"color: #00af00; text-decoration-color: #00af00\">110</span> │\n",
              "├──────────────────────────────────────┼─────────────────────────────┼─────────────────┤\n",
              "│ output_layer (<span style=\"color: #0087ff; text-decoration-color: #0087ff\">Dense</span>)                 │ (<span style=\"color: #00d7ff; text-decoration-color: #00d7ff\">None</span>, <span style=\"color: #00af00; text-decoration-color: #00af00\">1</span>)                   │              <span style=\"color: #00af00; text-decoration-color: #00af00\">11</span> │\n",
              "└──────────────────────────────────────┴─────────────────────────────┴─────────────────┘\n",
              "</pre>\n"
            ]
          },
          "metadata": {}
        },
        {
          "output_type": "display_data",
          "data": {
            "text/plain": [
              "\u001b[1m Total params: \u001b[0m\u001b[38;5;34m541\u001b[0m (2.11 KB)\n"
            ],
            "text/html": [
              "<pre style=\"white-space:pre;overflow-x:auto;line-height:normal;font-family:Menlo,'DejaVu Sans Mono',consolas,'Courier New',monospace\"><span style=\"font-weight: bold\"> Total params: </span><span style=\"color: #00af00; text-decoration-color: #00af00\">541</span> (2.11 KB)\n",
              "</pre>\n"
            ]
          },
          "metadata": {}
        },
        {
          "output_type": "display_data",
          "data": {
            "text/plain": [
              "\u001b[1m Trainable params: \u001b[0m\u001b[38;5;34m541\u001b[0m (2.11 KB)\n"
            ],
            "text/html": [
              "<pre style=\"white-space:pre;overflow-x:auto;line-height:normal;font-family:Menlo,'DejaVu Sans Mono',consolas,'Courier New',monospace\"><span style=\"font-weight: bold\"> Trainable params: </span><span style=\"color: #00af00; text-decoration-color: #00af00\">541</span> (2.11 KB)\n",
              "</pre>\n"
            ]
          },
          "metadata": {}
        },
        {
          "output_type": "display_data",
          "data": {
            "text/plain": [
              "\u001b[1m Non-trainable params: \u001b[0m\u001b[38;5;34m0\u001b[0m (0.00 B)\n"
            ],
            "text/html": [
              "<pre style=\"white-space:pre;overflow-x:auto;line-height:normal;font-family:Menlo,'DejaVu Sans Mono',consolas,'Courier New',monospace\"><span style=\"font-weight: bold\"> Non-trainable params: </span><span style=\"color: #00af00; text-decoration-color: #00af00\">0</span> (0.00 B)\n",
              "</pre>\n"
            ]
          },
          "metadata": {}
        }
      ]
    },
    {
      "cell_type": "code",
      "source": [
        "# Train the model\n",
        "model.fit(X_train_scaled, y_train, # We pass it the input features (X_train_scaled) and the target classes (y_train).\n",
        "          epochs=20, # Specify the nmber of complete passes of the training dataset through the algorithm.\n",
        "          validation_data=(X_val_scaled, y_val)) # Keras will measure the loss and the extra metrics on this set at the end of each epoch."
      ],
      "metadata": {
        "colab": {
          "base_uri": "https://localhost:8080/"
        },
        "id": "lfsPACqsuxgV",
        "outputId": "57a76c0a-2da3-4d08-f408-6ab42a6886ac"
      },
      "execution_count": null,
      "outputs": [
        {
          "output_type": "stream",
          "name": "stdout",
          "text": [
            "Epoch 1/20\n",
            "\u001b[1m13/13\u001b[0m \u001b[32m━━━━━━━━━━━━━━━━━━━━\u001b[0m\u001b[37m\u001b[0m \u001b[1m8s\u001b[0m 122ms/step - accuracy: 0.6798 - loss: 0.5914 - val_accuracy: 0.8478 - val_loss: 0.4031\n",
            "Epoch 2/20\n",
            "\u001b[1m13/13\u001b[0m \u001b[32m━━━━━━━━━━━━━━━━━━━━\u001b[0m\u001b[37m\u001b[0m \u001b[1m0s\u001b[0m 18ms/step - accuracy: 0.9092 - loss: 0.3179 - val_accuracy: 0.9130 - val_loss: 0.3035\n",
            "Epoch 3/20\n",
            "\u001b[1m13/13\u001b[0m \u001b[32m━━━━━━━━━━━━━━━━━━━━\u001b[0m\u001b[37m\u001b[0m \u001b[1m0s\u001b[0m 16ms/step - accuracy: 0.9243 - loss: 0.2165 - val_accuracy: 0.9348 - val_loss: 0.2607\n",
            "Epoch 4/20\n",
            "\u001b[1m13/13\u001b[0m \u001b[32m━━━━━━━━━━━━━━━━━━━━\u001b[0m\u001b[37m\u001b[0m \u001b[1m1s\u001b[0m 17ms/step - accuracy: 0.9264 - loss: 0.1705 - val_accuracy: 0.9348 - val_loss: 0.2348\n",
            "Epoch 5/20\n",
            "\u001b[1m13/13\u001b[0m \u001b[32m━━━━━━━━━━━━━━━━━━━━\u001b[0m\u001b[37m\u001b[0m \u001b[1m0s\u001b[0m 18ms/step - accuracy: 0.9422 - loss: 0.1436 - val_accuracy: 0.9348 - val_loss: 0.2156\n",
            "Epoch 6/20\n",
            "\u001b[1m13/13\u001b[0m \u001b[32m━━━━━━━━━━━━━━━━━━━━\u001b[0m\u001b[37m\u001b[0m \u001b[1m1s\u001b[0m 15ms/step - accuracy: 0.9478 - loss: 0.1250 - val_accuracy: 0.9348 - val_loss: 0.2010\n",
            "Epoch 7/20\n",
            "\u001b[1m13/13\u001b[0m \u001b[32m━━━━━━━━━━━━━━━━━━━━\u001b[0m\u001b[37m\u001b[0m \u001b[1m0s\u001b[0m 14ms/step - accuracy: 0.9573 - loss: 0.1112 - val_accuracy: 0.9348 - val_loss: 0.1888\n",
            "Epoch 8/20\n",
            "\u001b[1m13/13\u001b[0m \u001b[32m━━━━━━━━━━━━━━━━━━━━\u001b[0m\u001b[37m\u001b[0m \u001b[1m0s\u001b[0m 17ms/step - accuracy: 0.9660 - loss: 0.1009 - val_accuracy: 0.9348 - val_loss: 0.1782\n",
            "Epoch 9/20\n",
            "\u001b[1m13/13\u001b[0m \u001b[32m━━━━━━━━━━━━━━━━━━━━\u001b[0m\u001b[37m\u001b[0m \u001b[1m0s\u001b[0m 21ms/step - accuracy: 0.9729 - loss: 0.0933 - val_accuracy: 0.9348 - val_loss: 0.1701\n",
            "Epoch 10/20\n",
            "\u001b[1m13/13\u001b[0m \u001b[32m━━━━━━━━━━━━━━━━━━━━\u001b[0m\u001b[37m\u001b[0m \u001b[1m1s\u001b[0m 21ms/step - accuracy: 0.9744 - loss: 0.0877 - val_accuracy: 0.9348 - val_loss: 0.1630\n",
            "Epoch 11/20\n",
            "\u001b[1m13/13\u001b[0m \u001b[32m━━━━━━━━━━━━━━━━━━━━\u001b[0m\u001b[37m\u001b[0m \u001b[1m1s\u001b[0m 22ms/step - accuracy: 0.9744 - loss: 0.0834 - val_accuracy: 0.9348 - val_loss: 0.1576\n",
            "Epoch 12/20\n",
            "\u001b[1m13/13\u001b[0m \u001b[32m━━━━━━━━━━━━━━━━━━━━\u001b[0m\u001b[37m\u001b[0m \u001b[1m1s\u001b[0m 17ms/step - accuracy: 0.9783 - loss: 0.0800 - val_accuracy: 0.9348 - val_loss: 0.1528\n",
            "Epoch 13/20\n",
            "\u001b[1m13/13\u001b[0m \u001b[32m━━━━━━━━━━━━━━━━━━━━\u001b[0m\u001b[37m\u001b[0m \u001b[1m0s\u001b[0m 11ms/step - accuracy: 0.9794 - loss: 0.0772 - val_accuracy: 0.9348 - val_loss: 0.1477\n",
            "Epoch 14/20\n",
            "\u001b[1m13/13\u001b[0m \u001b[32m━━━━━━━━━━━━━━━━━━━━\u001b[0m\u001b[37m\u001b[0m \u001b[1m0s\u001b[0m 17ms/step - accuracy: 0.9794 - loss: 0.0749 - val_accuracy: 0.9348 - val_loss: 0.1424\n",
            "Epoch 15/20\n",
            "\u001b[1m13/13\u001b[0m \u001b[32m━━━━━━━━━━━━━━━━━━━━\u001b[0m\u001b[37m\u001b[0m \u001b[1m1s\u001b[0m 12ms/step - accuracy: 0.9864 - loss: 0.0730 - val_accuracy: 0.9348 - val_loss: 0.1370\n",
            "Epoch 16/20\n",
            "\u001b[1m13/13\u001b[0m \u001b[32m━━━━━━━━━━━━━━━━━━━━\u001b[0m\u001b[37m\u001b[0m \u001b[1m0s\u001b[0m 15ms/step - accuracy: 0.9864 - loss: 0.0713 - val_accuracy: 0.9348 - val_loss: 0.1321\n",
            "Epoch 17/20\n",
            "\u001b[1m13/13\u001b[0m \u001b[32m━━━━━━━━━━━━━━━━━━━━\u001b[0m\u001b[37m\u001b[0m \u001b[1m0s\u001b[0m 9ms/step - accuracy: 0.9864 - loss: 0.0697 - val_accuracy: 0.9348 - val_loss: 0.1275\n",
            "Epoch 18/20\n",
            "\u001b[1m13/13\u001b[0m \u001b[32m━━━━━━━━━━━━━━━━━━━━\u001b[0m\u001b[37m\u001b[0m \u001b[1m0s\u001b[0m 11ms/step - accuracy: 0.9864 - loss: 0.0682 - val_accuracy: 0.9565 - val_loss: 0.1236\n",
            "Epoch 19/20\n",
            "\u001b[1m13/13\u001b[0m \u001b[32m━━━━━━━━━━━━━━━━━━━━\u001b[0m\u001b[37m\u001b[0m \u001b[1m0s\u001b[0m 8ms/step - accuracy: 0.9864 - loss: 0.0668 - val_accuracy: 0.9565 - val_loss: 0.1203\n",
            "Epoch 20/20\n",
            "\u001b[1m13/13\u001b[0m \u001b[32m━━━━━━━━━━━━━━━━━━━━\u001b[0m\u001b[37m\u001b[0m \u001b[1m0s\u001b[0m 14ms/step - accuracy: 0.9864 - loss: 0.0656 - val_accuracy: 0.9565 - val_loss: 0.1171\n"
          ]
        },
        {
          "output_type": "execute_result",
          "data": {
            "text/plain": [
              "<keras.src.callbacks.history.History at 0x7afac4cf3970>"
            ]
          },
          "metadata": {},
          "execution_count": 9
        }
      ]
    },
    {
      "cell_type": "code",
      "source": [
        "# Use the model’s predict() method to make predictions on train data\n",
        "y_pred_train = model.predict(X_train_scaled)\n",
        "# Convert the predicted probabilities from the model into binary class labels.\n",
        "y_pred_train = (y_pred_train > 0.5)"
      ],
      "metadata": {
        "colab": {
          "base_uri": "https://localhost:8080/"
        },
        "id": "HjS043JCF-Bu",
        "outputId": "3278eb20-0297-4abf-aa57-16bfb4e61cc1"
      },
      "execution_count": null,
      "outputs": [
        {
          "output_type": "stream",
          "name": "stdout",
          "text": [
            "\u001b[1m13/13\u001b[0m \u001b[32m━━━━━━━━━━━━━━━━━━━━\u001b[0m\u001b[37m\u001b[0m \u001b[1m1s\u001b[0m 24ms/step\n"
          ]
        }
      ]
    },
    {
      "cell_type": "code",
      "source": [
        "# # Use the model’s predict() method to make predictions on validation data\n",
        "y_pred_val = model.predict(X_val_scaled)\n",
        "# Convert the predicted probabilities from the model into binary class labels.\n",
        "y_pred_val = (y_pred_val > 0.5)"
      ],
      "metadata": {
        "colab": {
          "base_uri": "https://localhost:8080/"
        },
        "id": "ilreISicdfUQ",
        "outputId": "28b30304-b4c6-4222-c892-b211eeba2416"
      },
      "execution_count": null,
      "outputs": [
        {
          "output_type": "stream",
          "name": "stdout",
          "text": [
            "\u001b[1m2/2\u001b[0m \u001b[32m━━━━━━━━━━━━━━━━━━━━\u001b[0m\u001b[37m\u001b[0m \u001b[1m0s\u001b[0m 8ms/step \n"
          ]
        }
      ]
    },
    {
      "cell_type": "code",
      "source": [
        "# # Use the model’s predict() method to make predictions on test data\n",
        "y_pred_test = model.predict(X_test_scaled)\n",
        "# Convert the predicted probabilities from the model into binary class labels.\n",
        "y_pred_test = (y_pred_test > 0.5)"
      ],
      "metadata": {
        "colab": {
          "base_uri": "https://localhost:8080/"
        },
        "id": "349SdQR7u-tb",
        "outputId": "dd8e3540-0b99-47fd-dd27-5a55f2a0cfcf"
      },
      "execution_count": null,
      "outputs": [
        {
          "output_type": "stream",
          "name": "stdout",
          "text": [
            "\u001b[1m4/4\u001b[0m \u001b[32m━━━━━━━━━━━━━━━━━━━━\u001b[0m\u001b[37m\u001b[0m \u001b[1m0s\u001b[0m 5ms/step \n"
          ]
        }
      ]
    },
    {
      "cell_type": "markdown",
      "source": [
        "\n",
        "\n",
        "---\n",
        "---\n",
        "\n"
      ],
      "metadata": {
        "id": "QHnIV0QSuAbG"
      }
    },
    {
      "cell_type": "markdown",
      "source": [
        "# Step 5: from sklearn.metrics import classification_report, confusion_matrix\n",
        "\n"
      ],
      "metadata": {
        "id": "lBOn47qo4z1U"
      }
    },
    {
      "cell_type": "code",
      "source": [
        "# Import the methods for evaluation of the model.\n",
        "from sklearn.metrics import classification_report, confusion_matrix"
      ],
      "metadata": {
        "id": "ycpew5RDt434"
      },
      "execution_count": null,
      "outputs": []
    },
    {
      "cell_type": "code",
      "source": [
        "# I re-used this code from Project 1. Only oe change in labels (Benign, Malignant)\n",
        "import matplotlib.pyplot as plt\n",
        "import seaborn as sns\n",
        "\n",
        "def plot_confusion_matrix(confusion_matrix, data_set_name, model_name):\n",
        "    \"\"\"\n",
        "    Visualize the confusion matrix with custom labels.\n",
        "\n",
        "    Args:\n",
        "    confusion_matrix (array-like): Confusion matrix to be visualized.\n",
        "    data_set_name (str): Name of the data set. For example, \"Training set\"\n",
        "    model_name (str): Name of the model. For example, \"Benchmark Logistic Regression\"\n",
        "    \"\"\"\n",
        "    # Visualize the confusion matrix\n",
        "    labels = ['Benign', 'Malignant']\n",
        "    ax = plt.subplot()\n",
        "    sns.heatmap(confusion_matrix, annot=True, fmt='.0f', ax=ax, cmap='viridis')\n",
        "\n",
        "    # Labels, titles, and ticks\n",
        "    ax.set_xlabel('Predicted labels')\n",
        "    ax.set_ylabel('True labels')\n",
        "    ax.set_title(f'Confusion Matrix of the {data_set_name} set for the {model_name} model')\n",
        "    ax.xaxis.set_ticklabels(labels)\n",
        "    ax.yaxis.set_ticklabels(labels)\n",
        "\n",
        "    plt.show()"
      ],
      "metadata": {
        "id": "-MOgu5g1HVuk"
      },
      "execution_count": null,
      "outputs": []
    },
    {
      "cell_type": "code",
      "source": [
        "# Create a confusion matrix for train data, using method from sklearn.\n",
        "confusion_matrix_training = confusion_matrix(y_train, y_pred_train)\n",
        "# Using the function from project 1, plot the confusion matrix for train data.\n",
        "plot_confusion_matrix(confusion_matrix_training, \"y_train\", \"Sequential\")\n",
        "# Print the classification report for train set, using method from sklearn.\n",
        "print(classification_report(y_train, y_pred_train))"
      ],
      "metadata": {
        "colab": {
          "base_uri": "https://localhost:8080/",
          "height": 628
        },
        "id": "QQbaupGvHsTB",
        "outputId": "6c7d53e2-6b41-48f3-ee65-053bc131d56c"
      },
      "execution_count": null,
      "outputs": [
        {
          "output_type": "display_data",
          "data": {
            "text/plain": [
              "<Figure size 640x480 with 2 Axes>"
            ],
            "image/png": "[encoded data removed]"
          },
          "metadata": {}
        },
        {
          "output_type": "stream",
          "name": "stdout",
          "text": [
            "              precision    recall  f1-score   support\n",
            "\n",
            "           0       0.99      0.98      0.99       153\n",
            "           1       0.99      1.00      0.99       256\n",
            "\n",
            "    accuracy                           0.99       409\n",
            "   macro avg       0.99      0.99      0.99       409\n",
            "weighted avg       0.99      0.99      0.99       409\n",
            "\n"
          ]
        }
      ]
    },
    {
      "cell_type": "code",
      "source": [
        "# Create a confusion matrix for train data, using method from sklearn.\n",
        "confusion_matrix_validation = confusion_matrix(y_val, y_pred_val)\n",
        "# Using the function from project 1, plot the confusion matrix for train data.\n",
        "plot_confusion_matrix(confusion_matrix_training, \"y_val\", \"Sequential\")\n",
        "# Print the classification report for train set, using method from sklearn.\n",
        "print(classification_report(y_val, y_pred_val))"
      ],
      "metadata": {
        "colab": {
          "base_uri": "https://localhost:8080/",
          "height": 628
        },
        "id": "HlC04FUTdp5c",
        "outputId": "67c07a99-eace-41a1-8bce-6b873d3b0b7e"
      },
      "execution_count": null,
      "outputs": [
        {
          "output_type": "display_data",
          "data": {
            "text/plain": [
              "<Figure size 640x480 with 2 Axes>"
            ],
            "image/png": "[encoded data removed]"
          },
          "metadata": {}
        },
        {
          "output_type": "stream",
          "name": "stdout",
          "text": [
            "              precision    recall  f1-score   support\n",
            "\n",
            "           0       1.00      0.88      0.94        17\n",
            "           1       0.94      1.00      0.97        29\n",
            "\n",
            "    accuracy                           0.96        46\n",
            "   macro avg       0.97      0.94      0.95        46\n",
            "weighted avg       0.96      0.96      0.96        46\n",
            "\n"
          ]
        }
      ]
    },
    {
      "cell_type": "code",
      "source": [
        "# Create a confusion matrix for test data, using method from sklearn.\n",
        "confusion_matrix_test = confusion_matrix(y_test, y_pred_test)\n",
        "# Using the function from project 1, plot the confusion matrix for test data.\n",
        "plot_confusion_matrix(confusion_matrix_test, \"y_test\", \"Sequential\")\n",
        "# Print the classification report for test set, using method from sklearn.\n",
        "print(classification_report(y_test, y_pred_test))"
      ],
      "metadata": {
        "colab": {
          "base_uri": "https://localhost:8080/",
          "height": 628
        },
        "id": "fgD2pTHZI71o",
        "outputId": "c85016f0-69df-41ec-c2e1-2184db4b0a4f"
      },
      "execution_count": null,
      "outputs": [
        {
          "output_type": "display_data",
          "data": {
            "text/plain": [
              "<Figure size 640x480 with 2 Axes>"
            ],
            "image/png": "[encoded data removed]"
          },
          "metadata": {}
        },
        {
          "output_type": "stream",
          "name": "stdout",
          "text": [
            "              precision    recall  f1-score   support\n",
            "\n",
            "           0       0.95      0.98      0.96        42\n",
            "           1       0.99      0.97      0.98        72\n",
            "\n",
            "    accuracy                           0.97       114\n",
            "   macro avg       0.97      0.97      0.97       114\n",
            "weighted avg       0.97      0.97      0.97       114\n",
            "\n"
          ]
        }
      ]
    },
    {
      "cell_type": "markdown",
      "source": [
        "Training Set Performance: The model has accuracy of 99%, indicating that it has learned the patterns in the training data effectively.  \n",
        "\n",
        "Validation Set Performance: There is a decrease in performance on the validation set. This indicates that while the model is performing well, it might be overfitting the training data.\n",
        "\n",
        "Test Set Performance: The model performs well on the test set with an accuracy of 96%. The precision, recall, and F1-scores are high, indicating that the model generalizes well to unseen data."
      ],
      "metadata": {
        "id": "pJKVVixeeobW"
      }
    },
    {
      "cell_type": "markdown",
      "source": [
        "What can be done additionally: finetuning of hyperparameters, using Random Search"
      ],
      "metadata": {
        "id": "QFx8z0RigcUe"
      }
    }
  ],
  "metadata": {
    "colab": {
      "provenance": []
    },
    "interpreter": {
      "hash": "aee8b7b246df8f9039afb4144a1f6fd8d2ca17a180786b69acc140d282b71a49"
    },
    "kernelspec": {
      "display_name": "Python 3.7.4 64-bit",
      "language": "python",
      "name": "python3"
    },
    "language_info": {
      "codemirror_mode": {
        "name": "ipython",
        "version": 3
      },
      "file_extension": ".py",
      "mimetype": "text/x-python",
      "name": "python",
      "nbconvert_exporter": "python",
      "pygments_lexer": "ipython3",
      "version": "3.7.4"
    }
  },
  "nbformat": 4,
  "nbformat_minor": 0
}